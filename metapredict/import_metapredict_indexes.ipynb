{
 "cells": [
  {
   "cell_type": "code",
   "execution_count": 1,
   "metadata": {},
   "outputs": [],
   "source": [
    "import pandas as pd\n",
    "import metapredict as meta\n",
    "import numpy as np\n",
    "\n",
    "from __future__ import print_function\n",
    "import re, gzip, time, itertools, io\n",
    "import sys\n",
    "import pandas as pd\n",
    "import numpy as np\n",
    "#import requests\n",
    "import matplotlib.pyplot as plt\n",
    "import Bio\n",
    "from Bio import SeqIO\n",
    "from Bio.SeqIO.FastaIO import SimpleFastaParser\n",
    "import json\n"
   ]
  },
  {
   "cell_type": "code",
   "execution_count": null,
   "metadata": {},
   "outputs": [],
   "source": [
    "##first run metapredict\n",
    "#../HG38_pep/HG38_pep_unique_onlyids.fasta -o HG38_FULL.IDR_pLDDT.IDR_New.fasta --threshold 0.5 --minIDR 20 --gapclosure 5 --minFold 20"
   ]
  },
  {
   "cell_type": "code",
   "execution_count": 30,
   "metadata": {},
   "outputs": [
    {
     "data": {
      "text/html": [
       "<div>\n",
       "<style scoped>\n",
       "    .dataframe tbody tr th:only-of-type {\n",
       "        vertical-align: middle;\n",
       "    }\n",
       "\n",
       "    .dataframe tbody tr th {\n",
       "        vertical-align: top;\n",
       "    }\n",
       "\n",
       "    .dataframe thead th {\n",
       "        text-align: right;\n",
       "    }\n",
       "</style>\n",
       "<table border=\"1\" class=\"dataframe\">\n",
       "  <thead>\n",
       "    <tr style=\"text-align: right;\">\n",
       "      <th></th>\n",
       "      <th>ID</th>\n",
       "      <th>IDR_START</th>\n",
       "      <th>IDR_END</th>\n",
       "      <th>IDRlengths</th>\n",
       "    </tr>\n",
       "  </thead>\n",
       "  <tbody>\n",
       "    <tr>\n",
       "      <th>0</th>\n",
       "      <td>ENSP00000250823.4</td>\n",
       "      <td>0</td>\n",
       "      <td>125</td>\n",
       "      <td>125</td>\n",
       "    </tr>\n",
       "    <tr>\n",
       "      <th>1</th>\n",
       "      <td>ENSP00000342812.3</td>\n",
       "      <td>0</td>\n",
       "      <td>68</td>\n",
       "      <td>68</td>\n",
       "    </tr>\n",
       "    <tr>\n",
       "      <th>2</th>\n",
       "      <td>ENSP00000342812.3</td>\n",
       "      <td>972</td>\n",
       "      <td>996</td>\n",
       "      <td>24</td>\n",
       "    </tr>\n",
       "    <tr>\n",
       "      <th>3</th>\n",
       "      <td>ENSP00000342812.3</td>\n",
       "      <td>2474</td>\n",
       "      <td>2555</td>\n",
       "      <td>81</td>\n",
       "    </tr>\n",
       "    <tr>\n",
       "      <th>4</th>\n",
       "      <td>ENSP00000354722.2</td>\n",
       "      <td>0</td>\n",
       "      <td>24</td>\n",
       "      <td>24</td>\n",
       "    </tr>\n",
       "  </tbody>\n",
       "</table>\n",
       "</div>"
      ],
      "text/plain": [
       "                  ID IDR_START IDR_END  IDRlengths\n",
       "0  ENSP00000250823.4         0     125         125\n",
       "1  ENSP00000342812.3         0      68          68\n",
       "2  ENSP00000342812.3       972     996          24\n",
       "3  ENSP00000342812.3      2474    2555          81\n",
       "4  ENSP00000354722.2         0      24          24"
      ]
     },
     "execution_count": 30,
     "metadata": {},
     "output_type": "execute_result"
    }
   ],
   "source": [
    "data= pd.read_csv(\"../HG38_pep/HG30_pep_annotation.csv\")\n",
    "\n",
    "\n",
    "######## regex expression\n",
    "p2 = re.compile(r'(?P<ID>[^\\s]+)+'\n",
    "                   + r'.IDR_START=(?P<IDR_START>\\d{1,5})'\n",
    "                   + r'.IDR_END=(?P<IDR_END>\\d{1,5})')\n",
    "\n",
    "####### open metapredict fasta file and make table out of it\n",
    "\n",
    "with open('HG38_FULL.IDR_pLDDT.IDR_New.fasta') as fasta_file:  # Will close handle cleanly\n",
    "    identifiers = []\n",
    "    #IDRseq = []\n",
    "    IDRlengths = []\n",
    "    for title, sequence in SimpleFastaParser(fasta_file):\n",
    "        identifiers.append(title)  # First word is ID\n",
    "        IDRlengths.append(len(sequence))\n",
    "        #IDRseq.append(sequence)\n",
    "s1 = pd.Series(identifiers, name='header')\n",
    "s2 = pd.Series(IDRlengths, name='IDRlengths')\n",
    "#s3 = pd.Series(IDRseq, name = 'IDRseq')\n",
    "HG38_FULL_pep_IDR = pd.DataFrame(dict(header=s1))\n",
    "HG38_FULL_pep_IDR = pd.concat([\n",
    "    HG38_FULL_pep_IDR,\n",
    "    (\n",
    "        HG38_FULL_pep_IDR.header.str.extractall(p2)\n",
    "          .reset_index('match', drop=True)\n",
    "    )\n",
    "], axis=1).fillna('')\n",
    "HG38_FULL_pep_IDR = HG38_FULL_pep_IDR.drop('header', 1)\n",
    "HG38_FULL_pep_IDR[\"IDRlengths\"] = s2\n",
    "#HG38IDR[\"IDRseq\"] = s3\n",
    "HG38_FULL_pep_IDR.head()\n",
    "\n"
   ]
  },
  {
   "cell_type": "code",
   "execution_count": null,
   "metadata": {},
   "outputs": [],
   "source": []
  },
  {
   "cell_type": "code",
   "execution_count": 31,
   "metadata": {},
   "outputs": [],
   "source": [
    "df=HG38_FULL_pep_IDR.drop(['IDRlengths'], axis=1)"
   ]
  },
  {
   "cell_type": "code",
   "execution_count": 32,
   "metadata": {},
   "outputs": [],
   "source": [
    "df['index']=df['IDR_START'].astype(str)+\" \"+df['IDR_END'].astype(str)"
   ]
  },
  {
   "cell_type": "code",
   "execution_count": 34,
   "metadata": {},
   "outputs": [],
   "source": [
    "df=df.drop(['IDR_START'], axis=1)\n",
    "df=df.drop(['IDR_END'], axis=1)"
   ]
  },
  {
   "cell_type": "code",
   "execution_count": 36,
   "metadata": {},
   "outputs": [],
   "source": [
    "df_new=df.groupby('ID').apply(lambda dfg: dfg.drop('ID', axis=1).to_dict(orient='list')).to_dict()"
   ]
  },
  {
   "cell_type": "code",
   "execution_count": 75,
   "metadata": {},
   "outputs": [],
   "source": [
    "indexesforkeys={}\n",
    "\n",
    "for i in df_new.keys():\n",
    "    aa=(list((df_new[i]).values())[0])\n",
    "    ab= [i.split(\" \", 1) for i in aa]\n",
    "    flat_list = [item for sublist in ab for item in sublist]\n",
    "    indexesforkeys[i]=list(map(int, flat_list))\n",
    "\n"
   ]
  },
  {
   "cell_type": "code",
   "execution_count": 79,
   "metadata": {},
   "outputs": [],
   "source": [
    "##save metapredict IDR indexes\n",
    "with open(\"../metapredict/metapredict_least20_concIDRs.json\", \"w\") as fp:\n",
    "    json.dump(indexesforkeys , fp) "
   ]
  },
  {
   "cell_type": "code",
   "execution_count": null,
   "metadata": {},
   "outputs": [],
   "source": []
  }
 ],
 "metadata": {
  "kernelspec": {
   "display_name": "Python 3 (ipykernel)",
   "language": "python",
   "name": "python3"
  },
  "language_info": {
   "codemirror_mode": {
    "name": "ipython",
    "version": 3
   },
   "file_extension": ".py",
   "mimetype": "text/x-python",
   "name": "python",
   "nbconvert_exporter": "python",
   "pygments_lexer": "ipython3",
   "version": "3.9.7"
  }
 },
 "nbformat": 4,
 "nbformat_minor": 4
}
